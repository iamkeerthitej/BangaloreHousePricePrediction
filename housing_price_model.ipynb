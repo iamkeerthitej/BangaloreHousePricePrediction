{
 "cells": [
  {
   "cell_type": "markdown",
   "id": "c02ce0f3",
   "metadata": {},
   "source": [
    "## Importing Libraries"
   ]
  },
  {
   "cell_type": "code",
   "execution_count": 107,
   "id": "6c9c95b8",
   "metadata": {},
   "outputs": [],
   "source": [
    "import numpy as np\n",
    "import pandas as pd\n",
    "import matplotlib.pyplot as plt\n",
    "import seaborn as sns\n",
    "import warnings\n",
    "from tensorflow import keras\n",
    "from sklearn.model_selection import train_test_split\n",
    "from sklearn.preprocessing import StandardScaler\n",
    "warnings.filterwarnings('ignore')"
   ]
  },
  {
   "cell_type": "markdown",
   "id": "b0b81f55",
   "metadata": {},
   "source": [
    "## Loading Dataset"
   ]
  },
  {
   "cell_type": "code",
   "execution_count": 108,
   "id": "defe94e6",
   "metadata": {},
   "outputs": [],
   "source": [
    "df = pd.read_csv('house2.csv')"
   ]
  },
  {
   "cell_type": "code",
   "execution_count": 109,
   "id": "8c8bf460",
   "metadata": {},
   "outputs": [
    {
     "data": {
      "text/html": [
       "<div>\n",
       "<style scoped>\n",
       "    .dataframe tbody tr th:only-of-type {\n",
       "        vertical-align: middle;\n",
       "    }\n",
       "\n",
       "    .dataframe tbody tr th {\n",
       "        vertical-align: top;\n",
       "    }\n",
       "\n",
       "    .dataframe thead th {\n",
       "        text-align: right;\n",
       "    }\n",
       "</style>\n",
       "<table border=\"1\" class=\"dataframe\">\n",
       "  <thead>\n",
       "    <tr style=\"text-align: right;\">\n",
       "      <th></th>\n",
       "      <th>area_type</th>\n",
       "      <th>availability</th>\n",
       "      <th>location</th>\n",
       "      <th>size</th>\n",
       "      <th>society</th>\n",
       "      <th>total_sqft</th>\n",
       "      <th>bath</th>\n",
       "      <th>balcony</th>\n",
       "      <th>price</th>\n",
       "    </tr>\n",
       "  </thead>\n",
       "  <tbody>\n",
       "    <tr>\n",
       "      <th>8426</th>\n",
       "      <td>Super built-up  Area</td>\n",
       "      <td>Ready To Move</td>\n",
       "      <td>Yelahanka</td>\n",
       "      <td>3 BHK</td>\n",
       "      <td>Niareum</td>\n",
       "      <td>2317</td>\n",
       "      <td>4.0</td>\n",
       "      <td>3.0</td>\n",
       "      <td>140.0</td>\n",
       "    </tr>\n",
       "    <tr>\n",
       "      <th>9276</th>\n",
       "      <td>Super built-up  Area</td>\n",
       "      <td>Ready To Move</td>\n",
       "      <td>JP Nagar</td>\n",
       "      <td>3 BHK</td>\n",
       "      <td>DSillto</td>\n",
       "      <td>1450</td>\n",
       "      <td>2.0</td>\n",
       "      <td>2.0</td>\n",
       "      <td>55.0</td>\n",
       "    </tr>\n",
       "    <tr>\n",
       "      <th>6998</th>\n",
       "      <td>Super built-up  Area</td>\n",
       "      <td>Ready To Move</td>\n",
       "      <td>Rayasandra</td>\n",
       "      <td>3 BHK</td>\n",
       "      <td>Amlisai</td>\n",
       "      <td>1179</td>\n",
       "      <td>2.0</td>\n",
       "      <td>1.0</td>\n",
       "      <td>55.0</td>\n",
       "    </tr>\n",
       "    <tr>\n",
       "      <th>7243</th>\n",
       "      <td>Built-up  Area</td>\n",
       "      <td>Ready To Move</td>\n",
       "      <td>Jyothi Nagar</td>\n",
       "      <td>2 BHK</td>\n",
       "      <td>NaN</td>\n",
       "      <td>959</td>\n",
       "      <td>2.0</td>\n",
       "      <td>1.0</td>\n",
       "      <td>42.5</td>\n",
       "    </tr>\n",
       "    <tr>\n",
       "      <th>1665</th>\n",
       "      <td>Super built-up  Area</td>\n",
       "      <td>19-Dec</td>\n",
       "      <td>Binny Pete</td>\n",
       "      <td>3 BHK</td>\n",
       "      <td>Shestlo</td>\n",
       "      <td>1282</td>\n",
       "      <td>3.0</td>\n",
       "      <td>2.0</td>\n",
       "      <td>178.0</td>\n",
       "    </tr>\n",
       "  </tbody>\n",
       "</table>\n",
       "</div>"
      ],
      "text/plain": [
       "                 area_type   availability      location   size  society  \\\n",
       "8426  Super built-up  Area  Ready To Move     Yelahanka  3 BHK  Niareum   \n",
       "9276  Super built-up  Area  Ready To Move      JP Nagar  3 BHK  DSillto   \n",
       "6998  Super built-up  Area  Ready To Move    Rayasandra  3 BHK  Amlisai   \n",
       "7243        Built-up  Area  Ready To Move  Jyothi Nagar  2 BHK      NaN   \n",
       "1665  Super built-up  Area         19-Dec    Binny Pete  3 BHK  Shestlo   \n",
       "\n",
       "     total_sqft  bath  balcony  price  \n",
       "8426       2317   4.0      3.0  140.0  \n",
       "9276       1450   2.0      2.0   55.0  \n",
       "6998       1179   2.0      1.0   55.0  \n",
       "7243        959   2.0      1.0   42.5  \n",
       "1665       1282   3.0      2.0  178.0  "
      ]
     },
     "execution_count": 109,
     "metadata": {},
     "output_type": "execute_result"
    }
   ],
   "source": [
    "df.sample(5)"
   ]
  },
  {
   "cell_type": "code",
   "execution_count": 110,
   "id": "2d0a3622",
   "metadata": {},
   "outputs": [
    {
     "data": {
      "text/plain": [
       "(13320, 9)"
      ]
     },
     "execution_count": 110,
     "metadata": {},
     "output_type": "execute_result"
    }
   ],
   "source": [
    "df.shape"
   ]
  },
  {
   "cell_type": "code",
   "execution_count": 111,
   "id": "e737719e",
   "metadata": {},
   "outputs": [
    {
     "data": {
      "text/plain": [
       "area_type          0\n",
       "availability       0\n",
       "location           1\n",
       "size              16\n",
       "society         5502\n",
       "total_sqft         0\n",
       "bath              73\n",
       "balcony          609\n",
       "price              0\n",
       "dtype: int64"
      ]
     },
     "execution_count": 111,
     "metadata": {},
     "output_type": "execute_result"
    }
   ],
   "source": [
    "df.isnull().sum()"
   ]
  },
  {
   "cell_type": "markdown",
   "id": "69721d4b",
   "metadata": {},
   "source": [
    "#### Dropping categorical columns"
   ]
  },
  {
   "cell_type": "code",
   "execution_count": 112,
   "id": "d4d2534f",
   "metadata": {},
   "outputs": [],
   "source": [
    "df = df.drop(['area_type','location','availability','society'],axis = 1)"
   ]
  },
  {
   "cell_type": "code",
   "execution_count": 113,
   "id": "fe37b3a8",
   "metadata": {},
   "outputs": [
    {
     "name": "stdout",
     "output_type": "stream",
     "text": [
      "<class 'pandas.core.frame.DataFrame'>\n",
      "RangeIndex: 13320 entries, 0 to 13319\n",
      "Data columns (total 5 columns):\n",
      " #   Column      Non-Null Count  Dtype  \n",
      "---  ------      --------------  -----  \n",
      " 0   size        13304 non-null  object \n",
      " 1   total_sqft  13320 non-null  object \n",
      " 2   bath        13247 non-null  float64\n",
      " 3   balcony     12711 non-null  float64\n",
      " 4   price       13320 non-null  float64\n",
      "dtypes: float64(3), object(2)\n",
      "memory usage: 520.4+ KB\n"
     ]
    }
   ],
   "source": [
    "df.info()"
   ]
  },
  {
   "cell_type": "code",
   "execution_count": 114,
   "id": "7cd02c65",
   "metadata": {},
   "outputs": [
    {
     "data": {
      "text/plain": [
       "count    13320.000000\n",
       "mean       112.565627\n",
       "std        148.971674\n",
       "min          8.000000\n",
       "25%         50.000000\n",
       "50%         72.000000\n",
       "75%        120.000000\n",
       "max       3600.000000\n",
       "Name: price, dtype: float64"
      ]
     },
     "execution_count": 114,
     "metadata": {},
     "output_type": "execute_result"
    }
   ],
   "source": [
    "df['price'].describe()"
   ]
  },
  {
   "cell_type": "markdown",
   "id": "61dfffa7",
   "metadata": {},
   "source": [
    "## Variation of Price and Correlation "
   ]
  },
  {
   "cell_type": "code",
   "execution_count": 115,
   "id": "a40fc628",
   "metadata": {},
   "outputs": [
    {
     "data": {
      "text/plain": [
       "<Axes: xlabel='price', ylabel='Density'>"
      ]
     },
     "execution_count": 115,
     "metadata": {},
     "output_type": "execute_result"
    },
    {
     "data": {
      "image/png": "[encoded data removed]",
      "text/plain": [
       "<Figure size 640x480 with 1 Axes>"
      ]
     },
     "metadata": {},
     "output_type": "display_data"
    }
   ],
   "source": [
    "sns.distplot(df['price'])"
   ]
  },
  {
   "cell_type": "code",
   "execution_count": 116,
   "id": "365825f7",
   "metadata": {},
   "outputs": [
    {
     "data": {
      "text/plain": [
       "<Axes: >"
      ]
     },
     "execution_count": 116,
     "metadata": {},
     "output_type": "execute_result"
    },
    {
     "data": {
      "image/png": "[encoded data removed]",
      "text/plain": [
       "<Figure size 640x480 with 2 Axes>"
      ]
     },
     "metadata": {},
     "output_type": "display_data"
    }
   ],
   "source": [
    "numericalColumns = [\"bath\",\"balcony\",\"price\"]\n",
    "corr = df[numericalColumns].corr()\n",
    "sns.heatmap(corr, annot=True)"
   ]
  },
  {
   "cell_type": "markdown",
   "id": "688f389d",
   "metadata": {},
   "source": [
    "Correlation of bath is more than balcony with price"
   ]
  },
  {
   "cell_type": "markdown",
   "id": "341be9e0",
   "metadata": {},
   "source": [
    "## Data Cleaning"
   ]
  },
  {
   "cell_type": "code",
   "execution_count": 117,
   "id": "4affdc0a",
   "metadata": {},
   "outputs": [
    {
     "data": {
      "text/plain": [
       "size           16\n",
       "total_sqft      0\n",
       "bath           73\n",
       "balcony       609\n",
       "price           0\n",
       "dtype: int64"
      ]
     },
     "execution_count": 117,
     "metadata": {},
     "output_type": "execute_result"
    }
   ],
   "source": [
    "df.isnull().sum()"
   ]
  },
  {
   "cell_type": "markdown",
   "id": "38a4a417",
   "metadata": {},
   "source": [
    "### Cleaning 'size' column"
   ]
  },
  {
   "cell_type": "code",
   "execution_count": 118,
   "id": "f62369f0",
   "metadata": {},
   "outputs": [
    {
     "data": {
      "text/plain": [
       "array(['2 BHK', '4 Bedroom', '3 BHK', '4 BHK', '6 Bedroom', '3 Bedroom',\n",
       "       '1 BHK', '1 RK', '1 Bedroom', '8 Bedroom', '2 Bedroom',\n",
       "       '7 Bedroom', '5 BHK', '7 BHK', '6 BHK', '5 Bedroom', '11 BHK',\n",
       "       '9 BHK', nan, '9 Bedroom', '27 BHK', '10 Bedroom', '11 Bedroom',\n",
       "       '10 BHK', '19 BHK', '16 BHK', '43 Bedroom', '14 BHK', '8 BHK',\n",
       "       '12 Bedroom', '13 BHK', '18 Bedroom'], dtype=object)"
      ]
     },
     "execution_count": 118,
     "metadata": {},
     "output_type": "execute_result"
    }
   ],
   "source": [
    "df['size'].unique()"
   ]
  },
  {
   "cell_type": "code",
   "execution_count": 119,
   "id": "f4b58343",
   "metadata": {},
   "outputs": [
    {
     "data": {
      "text/plain": [
       "16"
      ]
     },
     "execution_count": 119,
     "metadata": {},
     "output_type": "execute_result"
    }
   ],
   "source": [
    "df['size'].isnull().sum()"
   ]
  },
  {
   "cell_type": "code",
   "execution_count": 120,
   "id": "71acb027",
   "metadata": {},
   "outputs": [
    {
     "data": {
      "text/plain": [
       "0"
      ]
     },
     "execution_count": 120,
     "metadata": {},
     "output_type": "execute_result"
    }
   ],
   "source": [
    "def changesize(val):\n",
    "    if val == np.nan:\n",
    "        return np.nan\n",
    "    else:\n",
    "        val = str(val).split(' ')\n",
    "        val = val[0]\n",
    "        return float(val)\n",
    "    \n",
    "df['size'] = df['size'].apply(changesize)\n",
    "\n",
    "df['size'] = df['size'].fillna(df['size'].mean())\n",
    "\n",
    "\n",
    "df['size'].isnull().sum()"
   ]
  },
  {
   "cell_type": "code",
   "execution_count": 121,
   "id": "bd93289b",
   "metadata": {},
   "outputs": [
    {
     "data": {
      "text/plain": [
       "size            0\n",
       "total_sqft      0\n",
       "bath           73\n",
       "balcony       609\n",
       "price           0\n",
       "dtype: int64"
      ]
     },
     "execution_count": 121,
     "metadata": {},
     "output_type": "execute_result"
    }
   ],
   "source": [
    "df.isnull().sum()"
   ]
  },
  {
   "cell_type": "markdown",
   "id": "89ac343c",
   "metadata": {},
   "source": [
    "### Cleaning 'bath' column"
   ]
  },
  {
   "cell_type": "code",
   "execution_count": 122,
   "id": "70436580",
   "metadata": {},
   "outputs": [
    {
     "data": {
      "text/plain": [
       "array([ 2.,  5.,  3.,  4.,  6.,  1.,  9., nan,  8.,  7., 11., 10., 14.,\n",
       "       27., 12., 16., 40., 15., 13., 18.])"
      ]
     },
     "execution_count": 122,
     "metadata": {},
     "output_type": "execute_result"
    }
   ],
   "source": [
    "df['bath'].unique()"
   ]
  },
  {
   "cell_type": "code",
   "execution_count": 123,
   "id": "4220d0f8",
   "metadata": {},
   "outputs": [],
   "source": [
    "# fill nan values with mean\n",
    "df['bath'] = df['bath'].fillna(df['bath'].mean())"
   ]
  },
  {
   "cell_type": "code",
   "execution_count": 124,
   "id": "a264a480",
   "metadata": {},
   "outputs": [
    {
     "data": {
      "text/plain": [
       "size            0\n",
       "total_sqft      0\n",
       "bath            0\n",
       "balcony       609\n",
       "price           0\n",
       "dtype: int64"
      ]
     },
     "execution_count": 124,
     "metadata": {},
     "output_type": "execute_result"
    }
   ],
   "source": [
    "df.isnull().sum()"
   ]
  },
  {
   "cell_type": "markdown",
   "id": "8ae6d08e",
   "metadata": {},
   "source": [
    "### Cleaning 'balcony' column"
   ]
  },
  {
   "cell_type": "code",
   "execution_count": 125,
   "id": "6a258b01",
   "metadata": {},
   "outputs": [
    {
     "data": {
      "text/plain": [
       "array([ 1.,  3., nan,  2.,  0.])"
      ]
     },
     "execution_count": 125,
     "metadata": {},
     "output_type": "execute_result"
    }
   ],
   "source": [
    "df['balcony'].unique()"
   ]
  },
  {
   "cell_type": "code",
   "execution_count": 126,
   "id": "29e635c4",
   "metadata": {},
   "outputs": [],
   "source": [
    "# fill nan values with mean\n",
    "df['balcony'] = df['balcony'].fillna(df['balcony'].mean())"
   ]
  },
  {
   "cell_type": "code",
   "execution_count": 127,
   "id": "38b6d9ea",
   "metadata": {},
   "outputs": [
    {
     "data": {
      "text/plain": [
       "size          0\n",
       "total_sqft    0\n",
       "bath          0\n",
       "balcony       0\n",
       "price         0\n",
       "dtype: int64"
      ]
     },
     "execution_count": 127,
     "metadata": {},
     "output_type": "execute_result"
    }
   ],
   "source": [
    "df.isnull().sum()"
   ]
  },
  {
   "cell_type": "code",
   "execution_count": 128,
   "id": "d2403517",
   "metadata": {},
   "outputs": [
    {
     "name": "stdout",
     "output_type": "stream",
     "text": [
      "<class 'pandas.core.frame.DataFrame'>\n",
      "RangeIndex: 13320 entries, 0 to 13319\n",
      "Data columns (total 5 columns):\n",
      " #   Column      Non-Null Count  Dtype  \n",
      "---  ------      --------------  -----  \n",
      " 0   size        13320 non-null  float64\n",
      " 1   total_sqft  13320 non-null  object \n",
      " 2   bath        13320 non-null  float64\n",
      " 3   balcony     13320 non-null  float64\n",
      " 4   price       13320 non-null  float64\n",
      "dtypes: float64(4), object(1)\n",
      "memory usage: 520.4+ KB\n"
     ]
    }
   ],
   "source": [
    "df.info()"
   ]
  },
  {
   "cell_type": "markdown",
   "id": "ee2c6811",
   "metadata": {},
   "source": [
    "### Cleaning 'total_sqft' column"
   ]
  },
  {
   "cell_type": "code",
   "execution_count": 129,
   "id": "1dcb0293",
   "metadata": {},
   "outputs": [
    {
     "data": {
      "text/plain": [
       "array(['1056', '2600', '1440', ..., '1133 - 1384', '774', '4689'],\n",
       "      dtype=object)"
      ]
     },
     "execution_count": 129,
     "metadata": {},
     "output_type": "execute_result"
    }
   ],
   "source": [
    "df['total_sqft'].unique()"
   ]
  },
  {
   "cell_type": "code",
   "execution_count": 130,
   "id": "40b7627e",
   "metadata": {},
   "outputs": [],
   "source": [
    "total_sqft_int = []\n",
    "\n",
    "for val in df['total_sqft']:\n",
    "    try:\n",
    "        total_sqft_int.append(float(val))\n",
    "    except:\n",
    "        try:\n",
    "            val = val.split('-')\n",
    "            total_sqft_int.append((float(val[0]) + float(val[1])) / 2)  \n",
    "        except:\n",
    "            total_sqft_int.append(np.nan)  \n"
   ]
  },
  {
   "cell_type": "code",
   "execution_count": 131,
   "id": "5f9a73a2",
   "metadata": {},
   "outputs": [],
   "source": [
    "# join new integer column\n",
    "df = df.join(pd.DataFrame({'new_total_sqft':total_sqft_int}))"
   ]
  },
  {
   "cell_type": "code",
   "execution_count": 132,
   "id": "604b32de",
   "metadata": {},
   "outputs": [],
   "source": [
    "# fill na values in total_sqft_int with mean \n",
    "df['new_total_sqft'] = df['new_total_sqft'].fillna(df['new_total_sqft'].mean())"
   ]
  },
  {
   "cell_type": "code",
   "execution_count": 133,
   "id": "ca63d057",
   "metadata": {},
   "outputs": [],
   "source": [
    "# dropping old total_sqft\n",
    "df = df.drop(['total_sqft'],axis = 1)"
   ]
  },
  {
   "cell_type": "code",
   "execution_count": 134,
   "id": "614e4053",
   "metadata": {},
   "outputs": [
    {
     "data": {
      "text/html": [
       "<div>\n",
       "<style scoped>\n",
       "    .dataframe tbody tr th:only-of-type {\n",
       "        vertical-align: middle;\n",
       "    }\n",
       "\n",
       "    .dataframe tbody tr th {\n",
       "        vertical-align: top;\n",
       "    }\n",
       "\n",
       "    .dataframe thead th {\n",
       "        text-align: right;\n",
       "    }\n",
       "</style>\n",
       "<table border=\"1\" class=\"dataframe\">\n",
       "  <thead>\n",
       "    <tr style=\"text-align: right;\">\n",
       "      <th></th>\n",
       "      <th>size</th>\n",
       "      <th>bath</th>\n",
       "      <th>balcony</th>\n",
       "      <th>price</th>\n",
       "      <th>new_total_sqft</th>\n",
       "    </tr>\n",
       "  </thead>\n",
       "  <tbody>\n",
       "    <tr>\n",
       "      <th>2459</th>\n",
       "      <td>7.0</td>\n",
       "      <td>6.0</td>\n",
       "      <td>1.584376</td>\n",
       "      <td>85.00</td>\n",
       "      <td>700.0</td>\n",
       "    </tr>\n",
       "    <tr>\n",
       "      <th>5814</th>\n",
       "      <td>1.0</td>\n",
       "      <td>1.0</td>\n",
       "      <td>1.000000</td>\n",
       "      <td>50.00</td>\n",
       "      <td>905.0</td>\n",
       "    </tr>\n",
       "    <tr>\n",
       "      <th>4132</th>\n",
       "      <td>2.0</td>\n",
       "      <td>2.0</td>\n",
       "      <td>1.000000</td>\n",
       "      <td>88.73</td>\n",
       "      <td>1251.0</td>\n",
       "    </tr>\n",
       "    <tr>\n",
       "      <th>8437</th>\n",
       "      <td>2.0</td>\n",
       "      <td>2.0</td>\n",
       "      <td>1.000000</td>\n",
       "      <td>47.00</td>\n",
       "      <td>957.0</td>\n",
       "    </tr>\n",
       "    <tr>\n",
       "      <th>5413</th>\n",
       "      <td>2.0</td>\n",
       "      <td>2.0</td>\n",
       "      <td>1.000000</td>\n",
       "      <td>47.00</td>\n",
       "      <td>1125.0</td>\n",
       "    </tr>\n",
       "  </tbody>\n",
       "</table>\n",
       "</div>"
      ],
      "text/plain": [
       "      size  bath   balcony  price  new_total_sqft\n",
       "2459   7.0   6.0  1.584376  85.00           700.0\n",
       "5814   1.0   1.0  1.000000  50.00           905.0\n",
       "4132   2.0   2.0  1.000000  88.73          1251.0\n",
       "8437   2.0   2.0  1.000000  47.00           957.0\n",
       "5413   2.0   2.0  1.000000  47.00          1125.0"
      ]
     },
     "execution_count": 134,
     "metadata": {},
     "output_type": "execute_result"
    }
   ],
   "source": [
    "df.sample(5)"
   ]
  },
  {
   "cell_type": "code",
   "execution_count": 135,
   "id": "f20371f1",
   "metadata": {},
   "outputs": [
    {
     "name": "stdout",
     "output_type": "stream",
     "text": [
      "<class 'pandas.core.frame.DataFrame'>\n",
      "RangeIndex: 13320 entries, 0 to 13319\n",
      "Data columns (total 5 columns):\n",
      " #   Column          Non-Null Count  Dtype  \n",
      "---  ------          --------------  -----  \n",
      " 0   size            13320 non-null  float64\n",
      " 1   bath            13320 non-null  float64\n",
      " 2   balcony         13320 non-null  float64\n",
      " 3   price           13320 non-null  float64\n",
      " 4   new_total_sqft  13320 non-null  float64\n",
      "dtypes: float64(5)\n",
      "memory usage: 520.4 KB\n"
     ]
    }
   ],
   "source": [
    "# ALl columns are Numerical\n",
    "df.info()"
   ]
  },
  {
   "cell_type": "code",
   "execution_count": 136,
   "id": "e35c4e08",
   "metadata": {},
   "outputs": [
    {
     "data": {
      "text/plain": [
       "size              0\n",
       "bath              0\n",
       "balcony           0\n",
       "price             0\n",
       "new_total_sqft    0\n",
       "dtype: int64"
      ]
     },
     "execution_count": 136,
     "metadata": {},
     "output_type": "execute_result"
    }
   ],
   "source": [
    "# No null values\n",
    "df.isnull().sum()"
   ]
  },
  {
   "cell_type": "markdown",
   "id": "33f1ac90",
   "metadata": {},
   "source": [
    "# Model Implementation"
   ]
  },
  {
   "cell_type": "code",
   "execution_count": 137,
   "id": "417a9b5e",
   "metadata": {},
   "outputs": [
    {
     "data": {
      "text/html": [
       "<div>\n",
       "<style scoped>\n",
       "    .dataframe tbody tr th:only-of-type {\n",
       "        vertical-align: middle;\n",
       "    }\n",
       "\n",
       "    .dataframe tbody tr th {\n",
       "        vertical-align: top;\n",
       "    }\n",
       "\n",
       "    .dataframe thead th {\n",
       "        text-align: right;\n",
       "    }\n",
       "</style>\n",
       "<table border=\"1\" class=\"dataframe\">\n",
       "  <thead>\n",
       "    <tr style=\"text-align: right;\">\n",
       "      <th></th>\n",
       "      <th>size</th>\n",
       "      <th>bath</th>\n",
       "      <th>balcony</th>\n",
       "      <th>price</th>\n",
       "      <th>new_total_sqft</th>\n",
       "    </tr>\n",
       "  </thead>\n",
       "  <tbody>\n",
       "    <tr>\n",
       "      <th>5256</th>\n",
       "      <td>2.0</td>\n",
       "      <td>2.0</td>\n",
       "      <td>1.0</td>\n",
       "      <td>43.66</td>\n",
       "      <td>999.0</td>\n",
       "    </tr>\n",
       "    <tr>\n",
       "      <th>6966</th>\n",
       "      <td>3.0</td>\n",
       "      <td>2.0</td>\n",
       "      <td>1.0</td>\n",
       "      <td>77.50</td>\n",
       "      <td>1500.0</td>\n",
       "    </tr>\n",
       "    <tr>\n",
       "      <th>3257</th>\n",
       "      <td>2.0</td>\n",
       "      <td>2.0</td>\n",
       "      <td>1.0</td>\n",
       "      <td>46.00</td>\n",
       "      <td>1070.0</td>\n",
       "    </tr>\n",
       "    <tr>\n",
       "      <th>10576</th>\n",
       "      <td>1.0</td>\n",
       "      <td>1.0</td>\n",
       "      <td>1.0</td>\n",
       "      <td>27.00</td>\n",
       "      <td>550.0</td>\n",
       "    </tr>\n",
       "    <tr>\n",
       "      <th>315</th>\n",
       "      <td>5.0</td>\n",
       "      <td>5.0</td>\n",
       "      <td>2.0</td>\n",
       "      <td>180.00</td>\n",
       "      <td>1200.0</td>\n",
       "    </tr>\n",
       "  </tbody>\n",
       "</table>\n",
       "</div>"
      ],
      "text/plain": [
       "       size  bath  balcony   price  new_total_sqft\n",
       "5256    2.0   2.0      1.0   43.66           999.0\n",
       "6966    3.0   2.0      1.0   77.50          1500.0\n",
       "3257    2.0   2.0      1.0   46.00          1070.0\n",
       "10576   1.0   1.0      1.0   27.00           550.0\n",
       "315     5.0   5.0      2.0  180.00          1200.0"
      ]
     },
     "execution_count": 137,
     "metadata": {},
     "output_type": "execute_result"
    }
   ],
   "source": [
    "df.sample(5)\n"
   ]
  },
  {
   "cell_type": "code",
   "execution_count": 138,
   "id": "c97095d1",
   "metadata": {},
   "outputs": [
    {
     "data": {
      "text/plain": [
       "0         39.07\n",
       "1        120.00\n",
       "2         62.00\n",
       "3         95.00\n",
       "4         51.00\n",
       "          ...  \n",
       "13315    231.00\n",
       "13316    400.00\n",
       "13317     60.00\n",
       "13318    488.00\n",
       "13319     17.00\n",
       "Name: price, Length: 13320, dtype: float64"
      ]
     },
     "execution_count": 138,
     "metadata": {},
     "output_type": "execute_result"
    }
   ],
   "source": [
    "x=df.drop(columns=['price'])\n",
    "y=df['price']\n",
    "y"
   ]
  },
  {
   "cell_type": "code",
   "execution_count": 139,
   "id": "911ada4d",
   "metadata": {},
   "outputs": [
    {
     "data": {
      "text/plain": [
       "array([[2.000e+00, 2.000e+00, 1.000e+00, 1.056e+03],\n",
       "       [4.000e+00, 5.000e+00, 3.000e+00, 2.600e+03],\n",
       "       [3.000e+00, 2.000e+00, 3.000e+00, 1.440e+03],\n",
       "       ...,\n",
       "       [2.000e+00, 2.000e+00, 1.000e+00, 1.141e+03],\n",
       "       [4.000e+00, 4.000e+00, 1.000e+00, 4.689e+03],\n",
       "       [1.000e+00, 1.000e+00, 1.000e+00, 5.500e+02]])"
      ]
     },
     "execution_count": 139,
     "metadata": {},
     "output_type": "execute_result"
    }
   ],
   "source": [
    "x = np.array(x)\n",
    "x\n"
   ]
  },
  {
   "cell_type": "code",
   "execution_count": 140,
   "id": "cd003afd",
   "metadata": {},
   "outputs": [],
   "source": [
    "X_train, X_test, y_train, y_test = train_test_split(x, y, test_size=0.2, random_state=42)\n",
    "\n",
    "scaler = StandardScaler()\n",
    "X_train = scaler.fit_transform(X_train)\n",
    "X_test = scaler.transform(X_test)"
   ]
  },
  {
   "cell_type": "code",
   "execution_count": 141,
   "id": "325df5e5",
   "metadata": {},
   "outputs": [],
   "source": [
    "\n",
    "\n",
    "    model = keras.Sequential([\n",
    "        keras.layers.Input(shape=(4,)),        \n",
    "        keras.layers.Dense(64, activation='relu'),  \n",
    "        keras.layers.Dense(32, activation='relu'),  \n",
    "        keras.layers.Dense(1)                   \n",
    "])\n",
    "\n",
    "\n",
    "    \n"
   ]
  },
  {
   "cell_type": "code",
   "execution_count": 142,
   "id": "98e84ccc",
   "metadata": {},
   "outputs": [],
   "source": [
    "model.compile(optimizer='adam', loss='mean_squared_logarithmic_error')\n",
    "    "
   ]
  },
  {
   "cell_type": "code",
   "execution_count": null,
   "id": "84547e3b",
   "metadata": {},
   "outputs": [],
   "source": []
  },
  {
   "cell_type": "code",
   "execution_count": 143,
   "id": "d617328a",
   "metadata": {},
   "outputs": [
    {
     "name": "stdout",
     "output_type": "stream",
     "text": [
      "Epoch 1/100\n",
      "267/267 [==============================] - 1s 1ms/step - loss: 6.0957 - val_loss: 1.6174\n",
      "Epoch 2/100\n",
      "267/267 [==============================] - 0s 894us/step - loss: 0.8975 - val_loss: 0.5191\n",
      "Epoch 3/100\n",
      "267/267 [==============================] - 0s 883us/step - loss: 0.3985 - val_loss: 0.3183\n",
      "Epoch 4/100\n",
      "267/267 [==============================] - 0s 896us/step - loss: 0.2868 - val_loss: 0.2560\n",
      "Epoch 5/100\n",
      "267/267 [==============================] - 0s 909us/step - loss: 0.2454 - val_loss: 0.2273\n",
      "Epoch 6/100\n",
      "267/267 [==============================] - 0s 889us/step - loss: 0.2217 - val_loss: 0.2078\n",
      "Epoch 7/100\n",
      "267/267 [==============================] - 0s 901us/step - loss: 0.2022 - val_loss: 0.1917\n",
      "Epoch 8/100\n",
      "267/267 [==============================] - 0s 898us/step - loss: 0.1866 - val_loss: 0.1802\n",
      "Epoch 9/100\n",
      "267/267 [==============================] - 0s 901us/step - loss: 0.1756 - val_loss: 0.1729\n",
      "Epoch 10/100\n",
      "267/267 [==============================] - 0s 905us/step - loss: 0.1682 - val_loss: 0.1679\n",
      "Epoch 11/100\n",
      "267/267 [==============================] - 0s 906us/step - loss: 0.1641 - val_loss: 0.1659\n",
      "Epoch 12/100\n",
      "267/267 [==============================] - 0s 911us/step - loss: 0.1620 - val_loss: 0.1659\n",
      "Epoch 13/100\n",
      "267/267 [==============================] - 0s 913us/step - loss: 0.1610 - val_loss: 0.1644\n",
      "Epoch 14/100\n",
      "267/267 [==============================] - 0s 892us/step - loss: 0.1601 - val_loss: 0.1634\n",
      "Epoch 15/100\n",
      "267/267 [==============================] - 0s 894us/step - loss: 0.1594 - val_loss: 0.1632\n",
      "Epoch 16/100\n",
      "267/267 [==============================] - 0s 899us/step - loss: 0.1585 - val_loss: 0.1619\n",
      "Epoch 17/100\n",
      "267/267 [==============================] - 0s 919us/step - loss: 0.1579 - val_loss: 0.1613\n",
      "Epoch 18/100\n",
      "267/267 [==============================] - 0s 909us/step - loss: 0.1572 - val_loss: 0.1604\n",
      "Epoch 19/100\n",
      "267/267 [==============================] - 0s 891us/step - loss: 0.1566 - val_loss: 0.1598\n",
      "Epoch 20/100\n",
      "267/267 [==============================] - 0s 894us/step - loss: 0.1558 - val_loss: 0.1593\n",
      "Epoch 21/100\n",
      "267/267 [==============================] - 0s 912us/step - loss: 0.1554 - val_loss: 0.1585\n",
      "Epoch 22/100\n",
      "267/267 [==============================] - 0s 926us/step - loss: 0.1548 - val_loss: 0.1584\n",
      "Epoch 23/100\n",
      "267/267 [==============================] - 0s 889us/step - loss: 0.1543 - val_loss: 0.1575\n",
      "Epoch 24/100\n",
      "267/267 [==============================] - 0s 890us/step - loss: 0.1538 - val_loss: 0.1571\n",
      "Epoch 25/100\n",
      "267/267 [==============================] - 0s 934us/step - loss: 0.1534 - val_loss: 0.1561\n",
      "Epoch 26/100\n",
      "267/267 [==============================] - 0s 914us/step - loss: 0.1531 - val_loss: 0.1560\n",
      "Epoch 27/100\n",
      "267/267 [==============================] - 0s 895us/step - loss: 0.1526 - val_loss: 0.1552\n",
      "Epoch 28/100\n",
      "267/267 [==============================] - 0s 878us/step - loss: 0.1524 - val_loss: 0.1549\n",
      "Epoch 29/100\n",
      "267/267 [==============================] - 0s 925us/step - loss: 0.1521 - val_loss: 0.1548\n",
      "Epoch 30/100\n",
      "267/267 [==============================] - 0s 900us/step - loss: 0.1520 - val_loss: 0.1558\n",
      "Epoch 31/100\n",
      "267/267 [==============================] - 0s 879us/step - loss: 0.1519 - val_loss: 0.1551\n",
      "Epoch 32/100\n",
      "267/267 [==============================] - 0s 906us/step - loss: 0.1514 - val_loss: 0.1557\n",
      "Epoch 33/100\n",
      "267/267 [==============================] - 0s 912us/step - loss: 0.1514 - val_loss: 0.1551\n",
      "Epoch 34/100\n",
      "267/267 [==============================] - 0s 905us/step - loss: 0.1511 - val_loss: 0.1537\n",
      "Epoch 35/100\n",
      "267/267 [==============================] - 0s 890us/step - loss: 0.1507 - val_loss: 0.1530\n",
      "Epoch 36/100\n",
      "267/267 [==============================] - 0s 884us/step - loss: 0.1505 - val_loss: 0.1529\n",
      "Epoch 37/100\n",
      "267/267 [==============================] - 0s 915us/step - loss: 0.1503 - val_loss: 0.1529\n",
      "Epoch 38/100\n",
      "267/267 [==============================] - 0s 897us/step - loss: 0.1500 - val_loss: 0.1528\n",
      "Epoch 39/100\n",
      "267/267 [==============================] - 0s 899us/step - loss: 0.1498 - val_loss: 0.1528\n",
      "Epoch 40/100\n",
      "267/267 [==============================] - 0s 901us/step - loss: 0.1496 - val_loss: 0.1522\n",
      "Epoch 41/100\n",
      "267/267 [==============================] - 0s 903us/step - loss: 0.1491 - val_loss: 0.1528\n",
      "Epoch 42/100\n",
      "267/267 [==============================] - 0s 904us/step - loss: 0.1486 - val_loss: 0.1517\n",
      "Epoch 43/100\n",
      "267/267 [==============================] - 0s 904us/step - loss: 0.1485 - val_loss: 0.1516\n",
      "Epoch 44/100\n",
      "267/267 [==============================] - 0s 911us/step - loss: 0.1480 - val_loss: 0.1512\n",
      "Epoch 45/100\n",
      "267/267 [==============================] - 0s 909us/step - loss: 0.1476 - val_loss: 0.1509\n",
      "Epoch 46/100\n",
      "267/267 [==============================] - 0s 900us/step - loss: 0.1473 - val_loss: 0.1503\n",
      "Epoch 47/100\n",
      "267/267 [==============================] - 0s 913us/step - loss: 0.1469 - val_loss: 0.1502\n",
      "Epoch 48/100\n",
      "267/267 [==============================] - 0s 891us/step - loss: 0.1466 - val_loss: 0.1500\n",
      "Epoch 49/100\n",
      "267/267 [==============================] - 0s 888us/step - loss: 0.1465 - val_loss: 0.1505\n",
      "Epoch 50/100\n",
      "267/267 [==============================] - 0s 926us/step - loss: 0.1459 - val_loss: 0.1503\n",
      "Epoch 51/100\n",
      "267/267 [==============================] - 0s 926us/step - loss: 0.1456 - val_loss: 0.1494\n",
      "Epoch 52/100\n",
      "267/267 [==============================] - 0s 885us/step - loss: 0.1454 - val_loss: 0.1486\n",
      "Epoch 53/100\n",
      "267/267 [==============================] - 0s 893us/step - loss: 0.1451 - val_loss: 0.1485\n",
      "Epoch 54/100\n",
      "267/267 [==============================] - 0s 919us/step - loss: 0.1449 - val_loss: 0.1492\n",
      "Epoch 55/100\n",
      "267/267 [==============================] - 0s 898us/step - loss: 0.1446 - val_loss: 0.1485\n",
      "Epoch 56/100\n",
      "267/267 [==============================] - 0s 885us/step - loss: 0.1445 - val_loss: 0.1481\n",
      "Epoch 57/100\n",
      "267/267 [==============================] - 0s 897us/step - loss: 0.1444 - val_loss: 0.1480\n",
      "Epoch 58/100\n",
      "267/267 [==============================] - 0s 918us/step - loss: 0.1440 - val_loss: 0.1477\n",
      "Epoch 59/100\n",
      "267/267 [==============================] - 0s 887us/step - loss: 0.1439 - val_loss: 0.1477\n",
      "Epoch 60/100\n",
      "267/267 [==============================] - 0s 894us/step - loss: 0.1437 - val_loss: 0.1476\n",
      "Epoch 61/100\n",
      "267/267 [==============================] - 0s 901us/step - loss: 0.1438 - val_loss: 0.1473\n",
      "Epoch 62/100\n",
      "267/267 [==============================] - 0s 903us/step - loss: 0.1434 - val_loss: 0.1471\n",
      "Epoch 63/100\n",
      "267/267 [==============================] - 0s 901us/step - loss: 0.1433 - val_loss: 0.1479\n",
      "Epoch 64/100\n",
      "267/267 [==============================] - 0s 903us/step - loss: 0.1433 - val_loss: 0.1468\n",
      "Epoch 65/100\n",
      "267/267 [==============================] - 0s 895us/step - loss: 0.1431 - val_loss: 0.1469\n",
      "Epoch 66/100\n",
      "267/267 [==============================] - 0s 908us/step - loss: 0.1431 - val_loss: 0.1465\n",
      "Epoch 67/100\n",
      "267/267 [==============================] - 0s 889us/step - loss: 0.1430 - val_loss: 0.1469\n",
      "Epoch 68/100\n",
      "267/267 [==============================] - 0s 894us/step - loss: 0.1430 - val_loss: 0.1467\n",
      "Epoch 69/100\n",
      "267/267 [==============================] - 0s 896us/step - loss: 0.1428 - val_loss: 0.1461\n",
      "Epoch 70/100\n",
      "267/267 [==============================] - 0s 893us/step - loss: 0.1426 - val_loss: 0.1459\n",
      "Epoch 71/100\n",
      "267/267 [==============================] - 0s 922us/step - loss: 0.1424 - val_loss: 0.1460\n",
      "Epoch 72/100\n",
      "267/267 [==============================] - 0s 931us/step - loss: 0.1426 - val_loss: 0.1463\n",
      "Epoch 73/100\n",
      "267/267 [==============================] - 0s 915us/step - loss: 0.1423 - val_loss: 0.1459\n",
      "Epoch 74/100\n",
      "267/267 [==============================] - 0s 896us/step - loss: 0.1421 - val_loss: 0.1459\n",
      "Epoch 75/100\n",
      "267/267 [==============================] - 0s 922us/step - loss: 0.1420 - val_loss: 0.1464\n",
      "Epoch 76/100\n",
      "267/267 [==============================] - 0s 891us/step - loss: 0.1422 - val_loss: 0.1462\n",
      "Epoch 77/100\n",
      "267/267 [==============================] - 0s 888us/step - loss: 0.1423 - val_loss: 0.1469\n",
      "Epoch 78/100\n",
      "267/267 [==============================] - 0s 893us/step - loss: 0.1418 - val_loss: 0.1459\n",
      "Epoch 79/100\n",
      "267/267 [==============================] - 0s 958us/step - loss: 0.1422 - val_loss: 0.1456\n",
      "Epoch 80/100\n",
      "267/267 [==============================] - 0s 913us/step - loss: 0.1416 - val_loss: 0.1452\n",
      "Epoch 81/100\n",
      "267/267 [==============================] - 0s 883us/step - loss: 0.1416 - val_loss: 0.1456\n",
      "Epoch 82/100\n",
      "267/267 [==============================] - 0s 923us/step - loss: 0.1413 - val_loss: 0.1451\n",
      "Epoch 83/100\n",
      "267/267 [==============================] - 0s 923us/step - loss: 0.1412 - val_loss: 0.1451\n",
      "Epoch 84/100\n",
      "267/267 [==============================] - 0s 890us/step - loss: 0.1410 - val_loss: 0.1448\n",
      "Epoch 85/100\n",
      "267/267 [==============================] - 0s 907us/step - loss: 0.1409 - val_loss: 0.1462\n",
      "Epoch 86/100\n",
      "267/267 [==============================] - 0s 925us/step - loss: 0.1408 - val_loss: 0.1456\n",
      "Epoch 87/100\n",
      "267/267 [==============================] - 0s 975us/step - loss: 0.1407 - val_loss: 0.1444\n",
      "Epoch 88/100\n",
      "267/267 [==============================] - 0s 924us/step - loss: 0.1405 - val_loss: 0.1447\n",
      "Epoch 89/100\n",
      "267/267 [==============================] - 0s 942us/step - loss: 0.1405 - val_loss: 0.1446\n",
      "Epoch 90/100\n",
      "267/267 [==============================] - 0s 900us/step - loss: 0.1405 - val_loss: 0.1445\n",
      "Epoch 91/100\n",
      "267/267 [==============================] - 0s 933us/step - loss: 0.1404 - val_loss: 0.1452\n",
      "Epoch 92/100\n",
      "267/267 [==============================] - 0s 916us/step - loss: 0.1401 - val_loss: 0.1442\n",
      "Epoch 93/100\n",
      "267/267 [==============================] - 0s 902us/step - loss: 0.1397 - val_loss: 0.1452\n",
      "Epoch 94/100\n",
      "267/267 [==============================] - 0s 906us/step - loss: 0.1398 - val_loss: 0.1442\n",
      "Epoch 95/100\n",
      "267/267 [==============================] - 0s 951us/step - loss: 0.1396 - val_loss: 0.1448\n",
      "Epoch 96/100\n",
      "267/267 [==============================] - 0s 910us/step - loss: 0.1397 - val_loss: 0.1444\n",
      "Epoch 97/100\n",
      "267/267 [==============================] - 0s 923us/step - loss: 0.1396 - val_loss: 0.1434\n",
      "Epoch 98/100\n",
      "267/267 [==============================] - 0s 905us/step - loss: 0.1396 - val_loss: 0.1454\n",
      "Epoch 99/100\n",
      "267/267 [==============================] - 0s 935us/step - loss: 0.1392 - val_loss: 0.1432\n",
      "Epoch 100/100\n",
      "267/267 [==============================] - 0s 905us/step - loss: 0.1390 - val_loss: 0.1431\n"
     ]
    },
    {
     "data": {
      "text/plain": [
       "<keras.src.callbacks.History at 0x1a9d078eb90>"
      ]
     },
     "execution_count": 143,
     "metadata": {},
     "output_type": "execute_result"
    }
   ],
   "source": [
    "model.fit(X_train, y_train, epochs=100, batch_size=32, validation_split=0.2)\n"
   ]
  },
  {
   "cell_type": "code",
   "execution_count": null,
   "id": "129cb15a",
   "metadata": {},
   "outputs": [],
   "source": []
  },
  {
   "cell_type": "code",
   "execution_count": 144,
   "id": "518d0602",
   "metadata": {},
   "outputs": [
    {
     "name": "stdout",
     "output_type": "stream",
     "text": [
      "84/84 [==============================] - 0s 662us/step - loss: 0.1367\n"
     ]
    },
    {
     "data": {
      "text/plain": [
       "0.13674192130565643"
      ]
     },
     "execution_count": 144,
     "metadata": {},
     "output_type": "execute_result"
    }
   ],
   "source": [
    "model.evaluate(X_test, y_test)\n",
    "\n"
   ]
  },
  {
   "cell_type": "code",
   "execution_count": null,
   "id": "5ca4dd52",
   "metadata": {},
   "outputs": [],
   "source": [
    "bed = float(input(\"enter no of bedrooms\"))\n",
    "bath = float(input(\"enter no. of bathrooms\"))\n",
    "balcony = float(input(\"enter no. of balconys\"))\n",
    "new_total_sqft = float(input(\"enter total sqft\"))\n",
    "\n",
    "\n",
    "new_data = np.array([[bed, bath,balcony, new_total_sqft]])  \n",
    "scaled_new_data = scaler.transform(new_data)\n",
    "predicted_price = model.predict(scaled_new_data)\n",
    "print(f\"Predicted Price: {predicted_price[0][0]:.2f} lakhs\")"
   ]
  },
  {
   "cell_type": "code",
   "execution_count": null,
   "id": "1deedafb",
   "metadata": {},
   "outputs": [],
   "source": [
    "\n"
   ]
  },
  {
   "cell_type": "code",
   "execution_count": null,
   "id": "6e878df9",
   "metadata": {},
   "outputs": [],
   "source": []
  },
  {
   "cell_type": "code",
   "execution_count": null,
   "id": "c4822924",
   "metadata": {},
   "outputs": [],
   "source": []
  },
  {
   "cell_type": "code",
   "execution_count": null,
   "id": "f3e952b6",
   "metadata": {},
   "outputs": [],
   "source": []
  },
  {
   "cell_type": "code",
   "execution_count": null,
   "id": "61fb0f77",
   "metadata": {},
   "outputs": [],
   "source": []
  },
  {
   "cell_type": "code",
   "execution_count": null,
   "id": "139c830c",
   "metadata": {},
   "outputs": [],
   "source": []
  },
  {
   "cell_type": "code",
   "execution_count": null,
   "id": "9a1012eb",
   "metadata": {},
   "outputs": [],
   "source": []
  },
  {
   "cell_type": "code",
   "execution_count": null,
   "id": "5a95b0dc",
   "metadata": {},
   "outputs": [],
   "source": []
  },
  {
   "cell_type": "code",
   "execution_count": null,
   "id": "90938e39",
   "metadata": {},
   "outputs": [],
   "source": []
  },
  {
   "cell_type": "code",
   "execution_count": null,
   "id": "124073f3",
   "metadata": {},
   "outputs": [],
   "source": []
  },
  {
   "cell_type": "code",
   "execution_count": null,
   "id": "33e3eaa1",
   "metadata": {},
   "outputs": [],
   "source": []
  },
  {
   "cell_type": "code",
   "execution_count": null,
   "id": "ca6a16c5",
   "metadata": {},
   "outputs": [],
   "source": []
  },
  {
   "cell_type": "code",
   "execution_count": null,
   "id": "6d6bbc3f",
   "metadata": {},
   "outputs": [],
   "source": []
  },
  {
   "cell_type": "code",
   "execution_count": null,
   "id": "0b283e46",
   "metadata": {},
   "outputs": [],
   "source": []
  },
  {
   "cell_type": "code",
   "execution_count": null,
   "id": "1399ca30",
   "metadata": {},
   "outputs": [],
   "source": []
  },
  {
   "cell_type": "code",
   "execution_count": null,
   "id": "bc2ccfd7",
   "metadata": {},
   "outputs": [],
   "source": []
  },
  {
   "cell_type": "code",
   "execution_count": null,
   "id": "cbac8637",
   "metadata": {},
   "outputs": [],
   "source": []
  }
 ],
 "metadata": {
  "kernelspec": {
   "display_name": "Python 3 (ipykernel)",
   "language": "python",
   "name": "python3"
  },
  "language_info": {
   "codemirror_mode": {
    "name": "ipython",
    "version": 3
   },
   "file_extension": ".py",
   "mimetype": "text/x-python",
   "name": "python",
   "nbconvert_exporter": "python",
   "pygments_lexer": "ipython3",
   "version": "3.11.1"
  }
 },
 "nbformat": 4,
 "nbformat_minor": 5
}
